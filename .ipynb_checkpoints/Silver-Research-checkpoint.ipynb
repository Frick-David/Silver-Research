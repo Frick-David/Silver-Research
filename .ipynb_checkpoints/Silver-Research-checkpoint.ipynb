{
 "cells": [
  {
   "cell_type": "code",
   "execution_count": 2,
   "id": "3f9044c7",
   "metadata": {},
   "outputs": [],
   "source": [
    "# ----- Library Imports -----\n",
    "import requests\n",
    "import pandas as pd\n",
    "import csv\n",
    "import requests\n",
    "import quandl\n",
    "\n",
    "# ----- User Imports -----\n",
    "from config import quandl_key\n",
    "from helpers import test_status_code\n",
    "\n",
    "# Authenticate Quandl\n",
    "quandl.ApiConfig.api_key = quandl_key\n",
    "\n",
    "\n",
    "# Stocks that we want the data for\n",
    "stocks = ['SILV', 'AYA', 'MAG', 'FR', 'SVM', 'EDR', 'PAAS', 'HL', 'FRES', 'FVI', 'CDE', 'WPM', 'MMX', 'SSL']"
   ]
  },
  {
   "cell_type": "code",
   "execution_count": 8,
   "id": "dd42338f",
   "metadata": {},
   "outputs": [],
   "source": [
    "# Core US Fundamentals Dataset\n",
    "core_fundamentals_data = quandl.get_table(\"SHARADAR/SF1\",ticker=stocks, paginate=True)\n",
    "core_fundamentals_data"
   ]
  },
  {
   "cell_type": "code",
   "execution_count": null,
   "id": "6511d79b",
   "metadata": {},
   "outputs": [],
   "source": []
  },
  {
   "cell_type": "code",
   "execution_count": 4,
   "id": "c5a04935",
   "metadata": {},
   "outputs": [],
   "source": [
    "# Core US Insiders\n",
    "insider_data = quandl.get_table(\"SHARADAR/SF2\", ticker=stocks, paginate=True)\n",
    "insider_data"
   ]
  },
  {
   "cell_type": "code",
   "execution_count": null,
   "id": "a580c9bc",
   "metadata": {},
   "outputs": [],
   "source": []
  },
  {
   "cell_type": "code",
   "execution_count": 6,
   "id": "95f82a9f",
   "metadata": {},
   "outputs": [],
   "source": [
    "# Core US Institutional Investors\n",
    "institutional_investors_data = quandl.get_table(\"SHARADAR/SF3\", ticker=stocks, paginate=True)\n",
    "institutional_investors_data"
   ]
  },
  {
   "cell_type": "code",
   "execution_count": null,
   "id": "e65dc86a",
   "metadata": {},
   "outputs": [],
   "source": []
  },
  {
   "cell_type": "code",
   "execution_count": null,
   "id": "eb6e4da1",
   "metadata": {},
   "outputs": [],
   "source": []
  },
  {
   "cell_type": "code",
   "execution_count": null,
   "id": "20411d7e",
   "metadata": {},
   "outputs": [],
   "source": []
  },
  {
   "cell_type": "code",
   "execution_count": null,
   "id": "17ba07aa",
   "metadata": {},
   "outputs": [],
   "source": []
  },
  {
   "cell_type": "code",
   "execution_count": null,
   "id": "ce12c1ad",
   "metadata": {},
   "outputs": [],
   "source": [
    "# 1- Sharadar Equity Prices\n",
    "equity_prices_data = quandl.get_table(\"SHARADAR/SEP\", ticker=stocks, paginate=True)\n",
    "equity_prices_data"
   ]
  },
  {
   "cell_type": "code",
   "execution_count": null,
   "id": "8bed5372",
   "metadata": {},
   "outputs": [],
   "source": []
  },
  {
   "cell_type": "code",
   "execution_count": null,
   "id": "7cc5a5f9",
   "metadata": {},
   "outputs": [],
   "source": []
  },
  {
   "cell_type": "code",
   "execution_count": null,
   "id": "a3bd2747",
   "metadata": {},
   "outputs": [],
   "source": [
    "# 2 - Tickers and MetaData\n",
    "metadata = quandl.get_table(\"SHARADAR/TICKERS\", ticker=stocks, paginate=True)\n",
    "metadata"
   ]
  },
  {
   "cell_type": "code",
   "execution_count": null,
   "id": "b22bf89d",
   "metadata": {},
   "outputs": [],
   "source": []
  },
  {
   "cell_type": "code",
   "execution_count": null,
   "id": "0d87958c",
   "metadata": {},
   "outputs": [],
   "source": []
  },
  {
   "cell_type": "code",
   "execution_count": null,
   "id": "d1daa3e8",
   "metadata": {},
   "outputs": [],
   "source": [
    "# 3** - Indicator Descriptions - Has the indicators of the data I can look through\n",
    "indicators_data = quandl.get_table(\"SHARADAR/INDICATORS\", ticker=stocks, paginate=True)\n",
    "indicators_data"
   ]
  },
  {
   "cell_type": "code",
   "execution_count": null,
   "id": "7a534807",
   "metadata": {},
   "outputs": [],
   "source": []
  },
  {
   "cell_type": "code",
   "execution_count": null,
   "id": "b6d774b6",
   "metadata": {},
   "outputs": [],
   "source": []
  },
  {
   "cell_type": "code",
   "execution_count": null,
   "id": "fcd5eb12",
   "metadata": {},
   "outputs": [],
   "source": [
    "# Daily Metrics\n",
    "daily_metrics_data = quandl.get_table(\"SHARADAR/DAILY\", ticker=stocks, paginate=True)\n",
    "daily_metrics_data"
   ]
  },
  {
   "cell_type": "code",
   "execution_count": null,
   "id": "e680e9ed",
   "metadata": {},
   "outputs": [],
   "source": []
  },
  {
   "cell_type": "code",
   "execution_count": null,
   "id": "5365a2c4",
   "metadata": {},
   "outputs": [],
   "source": []
  },
  {
   "cell_type": "code",
   "execution_count": null,
   "id": "7f1b35a4",
   "metadata": {},
   "outputs": [],
   "source": [
    "# Corporate Actions - Would show if the company issued more shares ie dilution.\n",
    "corporate_action_data.get_table(\"SHARADAR/ACTIONS\", ticker=stocks, paginate=True) \n",
    "corporate_action_data"
   ]
  },
  {
   "cell_type": "code",
   "execution_count": null,
   "id": "2c7aff92",
   "metadata": {},
   "outputs": [],
   "source": []
  }
 ],
 "metadata": {
  "kernelspec": {
   "display_name": "Python 3 (ipykernel)",
   "language": "python",
   "name": "python3"
  },
  "language_info": {
   "codemirror_mode": {
    "name": "ipython",
    "version": 3
   },
   "file_extension": ".py",
   "mimetype": "text/x-python",
   "name": "python",
   "nbconvert_exporter": "python",
   "pygments_lexer": "ipython3",
   "version": "3.9.6"
  }
 },
 "nbformat": 4,
 "nbformat_minor": 5
}
